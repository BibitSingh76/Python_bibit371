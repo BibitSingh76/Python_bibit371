{
 "cells": [
  {
   "cell_type": "code",
   "execution_count": null,
   "id": "6e40536e",
   "metadata": {},
   "outputs": [
    {
     "name": "stdout",
     "output_type": "stream",
     "text": [
      "your entered hello \n",
      "you entered this value 4\n"
     ]
    }
   ],
   "source": [
    "#input by user in python\n",
    "v=input(\"enter string:\")\n",
    "print(\"your entered\",v)\n",
    "a=int(input(\"enter an integer: \"))\n",
    "print(\"you entered this value\",a)\n"
   ]
  },
  {
   "cell_type": "code",
   "execution_count": 20,
   "id": "115e9f1a",
   "metadata": {},
   "outputs": [],
   "source": [
    "#condition opration in python\n",
    "# a=5\n",
    "# b=10\n",
    "# if a>b: \n",
    "#     print(\"True\")\n",
    "# else:\n",
    "#     print(\"False\")\n",
    "\n",
    "# x,y=4,6\n",
    "# if x>y:\n",
    "#     print(\"x is greater than y\")\n",
    "# elif x<y:\n",
    "#     print(\"x is less than y\")\n",
    "# else:\n",
    "#     print(\"x is equal to y\")\n",
    "\n",
    "# print(\"A\") if a>b else print(\"=\") if a==b else print(\"B\")\n",
    "\n",
    "r=200\n",
    "s=30\n",
    "q=500\n",
    "if r>s and s>q:\n",
    "    print(\"both condition are true\")"
   ]
  },
  {
   "cell_type": "code",
   "execution_count": 15,
   "id": "db0c2865",
   "metadata": {},
   "outputs": [
    {
     "name": "stdout",
     "output_type": "stream",
     "text": [
      "1\n",
      "2\n"
     ]
    }
   ],
   "source": [
    "arr = input()\n",
    "for it in arr:\n",
    "    print(it)\n"
   ]
  }
 ],
 "metadata": {
  "kernelspec": {
   "display_name": "Python 3",
   "language": "python",
   "name": "python3"
  },
  "language_info": {
   "codemirror_mode": {
    "name": "ipython",
    "version": 3
   },
   "file_extension": ".py",
   "mimetype": "text/x-python",
   "name": "python",
   "nbconvert_exporter": "python",
   "pygments_lexer": "ipython3",
   "version": "3.13.7"
  }
 },
 "nbformat": 4,
 "nbformat_minor": 5
}
